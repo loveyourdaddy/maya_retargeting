{
 "cells": [
  {
   "cell_type": "code",
   "execution_count": 28,
   "metadata": {},
   "outputs": [],
   "source": [
    "import numpy as np\n",
    "\n",
    "char_name = \"Asooni\"\n",
    "\n",
    "joints = np.load('TruelyTruelyUsing/' + char_name + '_joint.fbx.npy')\n",
    "meshes = np.load('TruelyTruelyUsing/' + char_name + '_mesh.fbx.npy')\n",
    "\n",
    "origins = joints.T[:3].T\n",
    "distances = np.linalg.norm(meshes[:, np.newaxis, :] - origins[np.newaxis, :, :], axis=2)\n",
    "\n",
    "# Find the index of the closest origin for each mesh point\n",
    "closest_origin_indices = np.argmin(distances, axis=1)\n",
    "\n",
    "# Create a one-hot encoded matrix of size MxN\n",
    "M, N = len(meshes), len(origins)\n",
    "one_hot_matrix = np.zeros((M, N))\n",
    "\n",
    "# Set the corresponding indices to 1 based on closest_origin_indices\n",
    "one_hot_matrix[np.arange(M), closest_origin_indices] = 1\n",
    "\n",
    "np.save('./TruelyTruelyUsing/' + char_name + '_target.npy',one_hot_matrix)"
   ]
  }
 ],
 "metadata": {
  "kernelspec": {
   "display_name": "R2ET",
   "language": "python",
   "name": "python3"
  },
  "language_info": {
   "codemirror_mode": {
    "name": "ipython",
    "version": 3
   },
   "file_extension": ".py",
   "mimetype": "text/x-python",
   "name": "python",
   "nbconvert_exporter": "python",
   "pygments_lexer": "ipython3",
   "version": "3.7.12"
  }
 },
 "nbformat": 4,
 "nbformat_minor": 2
}
